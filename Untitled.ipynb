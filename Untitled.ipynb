{
 "cells": [
  {
   "cell_type": "code",
   "execution_count": 157,
   "metadata": {},
   "outputs": [],
   "source": [
    "from sklearn.datasets import make_blobs\n",
    "X, y = make_blobs(n_samples=20, centers=3, n_features=2,\n",
    "                  random_state=1)"
   ]
  },
  {
   "cell_type": "code",
   "execution_count": 7,
   "metadata": {},
   "outputs": [
    {
     "data": {
      "image/png": "[encoded data removed]",
      "text/plain": [
       "<Figure size 432x288 with 1 Axes>"
      ]
     },
     "metadata": {
      "needs_background": "light"
     },
     "output_type": "display_data"
    }
   ],
   "source": [
    "import matplotlib.pyplot as plt\n",
    "\n",
    "plt.scatter(X[:,0], y)\n",
    "plt.show()"
   ]
  },
  {
   "cell_type": "code",
   "execution_count": 8,
   "metadata": {},
   "outputs": [
    {
     "data": {
      "image/png": "[encoded data removed]",
      "text/plain": [
       "<Figure size 432x288 with 1 Axes>"
      ]
     },
     "metadata": {
      "needs_background": "light"
     },
     "output_type": "display_data"
    }
   ],
   "source": [
    "plt.scatter(X[:,1], y)\n",
    "plt.show()"
   ]
  },
  {
   "cell_type": "code",
   "execution_count": 9,
   "metadata": {},
   "outputs": [],
   "source": [
    "import numpy as np"
   ]
  },
  {
   "cell_type": "code",
   "execution_count": 19,
   "metadata": {},
   "outputs": [
    {
     "data": {
      "text/plain": [
       "20"
      ]
     },
     "execution_count": 19,
     "metadata": {},
     "output_type": "execute_result"
    }
   ],
   "source": [
    "X.shape[0]"
   ]
  },
  {
   "cell_type": "code",
   "execution_count": 13,
   "metadata": {},
   "outputs": [],
   "source": [
    "rs = np.random.RandomState(2)\n",
    "_=rs.permutation(X)"
   ]
  },
  {
   "cell_type": "code",
   "execution_count": 15,
   "metadata": {},
   "outputs": [
    {
     "data": {
      "image/png": "[encoded data removed]",
      "text/plain": [
       "<Figure size 432x288 with 1 Axes>"
      ]
     },
     "metadata": {
      "needs_background": "light"
     },
     "output_type": "display_data"
    }
   ],
   "source": [
    "plt.scatter(_[:,0], y)\n",
    "plt.show()"
   ]
  },
  {
   "cell_type": "code",
   "execution_count": 51,
   "metadata": {},
   "outputs": [
    {
     "data": {
      "text/plain": [
       "20"
      ]
     },
     "execution_count": 51,
     "metadata": {},
     "output_type": "execute_result"
    }
   ],
   "source": [
    "len(X)"
   ]
  },
  {
   "cell_type": "code",
   "execution_count": 125,
   "metadata": {},
   "outputs": [],
   "source": [
    "k = 3\n",
    "n = len(X)\n",
    "randstate = 42\n",
    "\n",
    "def initialise_centroid(X, k, randstate):\n",
    "    rs = np.random.RandomState(randstate)\n",
    "    i = rs.permutation(len(X))[:k] \n",
    "    centroids = X[i]\n",
    "    return centroids\n",
    "\n",
    "def closest_centroid(X, centroids):\n",
    "    distances = np.sqrt(((X - centroids[:, np.newaxis])**2).sum(axis=2))\n",
    "    closest = np.argmin(distances, axis=0)\n",
    "    return closest\n",
    "\n",
    "def shift_centroids(X, closest, centroids):\n",
    "    new_centroids = np.array([X[closest==i].mean(axis=0) for i in range(k)])\n",
    "    return new_centroids"
   ]
  },
  {
   "cell_type": "code",
   "execution_count": 153,
   "metadata": {},
   "outputs": [
    {
     "data": {
      "text/plain": [
       "array([0, 9, 8])"
      ]
     },
     "execution_count": 153,
     "metadata": {},
     "output_type": "execute_result"
    }
   ],
   "source": [
    "np.random.randint(low=0,high=len(X), size=k)"
   ]
  },
  {
   "cell_type": "code",
   "execution_count": null,
   "metadata": {},
   "outputs": [],
   "source": []
  },
  {
   "cell_type": "code",
   "execution_count": 79,
   "metadata": {},
   "outputs": [
    {
     "data": {
      "image/png": "[encoded data removed]",
      "text/plain": [
       "<Figure size 432x288 with 1 Axes>"
      ]
     },
     "metadata": {
      "needs_background": "light"
     },
     "output_type": "display_data"
    }
   ],
   "source": [
    "plt.scatter(centroids[:,0], centroids[:,1])\n",
    "plt.show()"
   ]
  },
  {
   "cell_type": "code",
   "execution_count": 82,
   "metadata": {},
   "outputs": [
    {
     "data": {
      "text/plain": [
       "array([[ 0.        ,  0.83269337, 13.10334176,  4.81797863,  7.03642684,\n",
       "         5.70807801,  0.49715051,  4.56398175, 14.87571677,  4.74304701,\n",
       "        14.24207969, 13.62997155, 14.26999364,  0.44847457,  2.83331132,\n",
       "         6.04387524, 13.52918353, 14.63476512,  6.11583605,  1.16215345],\n",
       "       [14.63476512, 13.88381882,  2.12365567, 12.59969048, 11.98901443,\n",
       "        10.86418935, 14.46333196, 11.7259808 ,  1.51486116, 12.60651621,\n",
       "         0.65544333,  2.14137703,  1.17778238, 14.23501875, 12.26157763,\n",
       "        11.44042841,  1.18155842,  0.        , 11.70961808, 13.87935889],\n",
       "       [ 6.04387524,  5.2840398 , 10.672919  ,  1.47635992,  1.27350236,\n",
       "         0.86312237,  6.27980814,  1.53016267, 12.2490143 ,  1.52753352,\n",
       "        10.87350154, 11.30938648, 11.55437101,  5.6269078 ,  6.08548833,\n",
       "         0.        , 10.2607287 , 11.44042841,  0.31450782,  4.88174738]])"
      ]
     },
     "execution_count": 82,
     "metadata": {},
     "output_type": "execute_result"
    }
   ],
   "source": [
    "np.sqrt(((X - centroids[:, np.newaxis])**2).sum(axis=2))"
   ]
  },
  {
   "cell_type": "code",
   "execution_count": 88,
   "metadata": {},
   "outputs": [
    {
     "data": {
      "text/plain": [
       "array([[ -7.75205488,  -8.99843375],\n",
       "       [ -7.73612831,  -8.1658927 ],\n",
       "       [ -0.79415228,   2.10495117],\n",
       "       [-10.17014071,  -4.83120697],\n",
       "       [-11.09833168,  -2.80862484],\n",
       "       [ -9.09612178,  -3.45085421],\n",
       "       [ -7.25671774,  -9.04085707],\n",
       "       [ -9.09685655,  -4.63707641],\n",
       "       [  0.08525186,   3.64528297],\n",
       "       [-10.12060273,  -4.88911798],\n",
       "       [ -1.98197711,   4.02243551],\n",
       "       [ -0.19745197,   2.34634916],\n",
       "       [ -0.52579046,   3.3065986 ],\n",
       "       [ -7.75654294,  -8.54998163],\n",
       "       [ -5.40508001,  -7.41118394],\n",
       "       [ -9.95549876,  -3.37053333],\n",
       "       [ -2.18773166,   3.33352125],\n",
       "       [ -1.34052081,   4.15711949],\n",
       "       [-10.26560058,  -3.42299308],\n",
       "       [ -8.18219253,  -7.91881241]])"
      ]
     },
     "execution_count": 88,
     "metadata": {},
     "output_type": "execute_result"
    }
   ],
   "source": [
    "X"
   ]
  },
  {
   "cell_type": "code",
   "execution_count": 96,
   "metadata": {},
   "outputs": [
    {
     "data": {
      "text/plain": [
       "array([[ 2.20344387, -5.62790041],\n",
       "       [ 2.21937044, -4.79535937],\n",
       "       [ 9.16134648,  5.47548451],\n",
       "       [-0.21464195, -1.46067363],\n",
       "       [-1.14283292,  0.5619085 ],\n",
       "       [ 0.85937697, -0.08032087],\n",
       "       [ 2.69878102, -5.67032374],\n",
       "       [ 0.8586422 , -1.26654307],\n",
       "       [10.04075062,  7.0158163 ],\n",
       "       [-0.16510397, -1.51858465],\n",
       "       [ 7.97352165,  7.39296885],\n",
       "       [ 9.75804679,  5.71688249],\n",
       "       [ 9.42970829,  6.67713194],\n",
       "       [ 2.19895582, -5.1794483 ],\n",
       "       [ 4.55041875, -4.04065061],\n",
       "       [ 0.        ,  0.        ],\n",
       "       [ 7.7677671 ,  6.70405458],\n",
       "       [ 8.61497795,  7.52765283],\n",
       "       [-0.31010183, -0.05245975],\n",
       "       [ 1.77330622, -4.54827907]])"
      ]
     },
     "execution_count": 96,
     "metadata": {},
     "output_type": "execute_result"
    }
   ],
   "source": [
    "list(X - centroids[:,np.newaxis])[2]"
   ]
  },
  {
   "cell_type": "code",
   "execution_count": 102,
   "metadata": {},
   "outputs": [
    {
     "data": {
      "text/plain": [
       "69.73022077462487"
      ]
     },
     "execution_count": 102,
     "metadata": {},
     "output_type": "execute_result"
    }
   ],
   "source": [
    "np.linalg.norm(X-centroids[:,np.newaxis])"
   ]
  },
  {
   "cell_type": "code",
   "execution_count": 99,
   "metadata": {},
   "outputs": [
    {
     "data": {
      "text/plain": [
       "69.73022077462487"
      ]
     },
     "execution_count": 99,
     "metadata": {},
     "output_type": "execute_result"
    }
   ],
   "source": [
    "dist"
   ]
  },
  {
   "cell_type": "code",
   "execution_count": 105,
   "metadata": {},
   "outputs": [],
   "source": [
    "# np.newaxis to increase the dimension of the smaller array\n",
    "# X - centroids[:,np.newaxis] would give 3 arrays of X-first centroid, second and third\n",
    "# For euclidean distance you square the difference between the points, get the sum and then root it.\n",
    "\n",
    "dist = (X - centroids[:,np.newaxis])**2\n",
    "dist = np.sum(dist, axis=2)\n",
    "dist = np.sqrt(dist)"
   ]
  },
  {
   "cell_type": "code",
   "execution_count": 108,
   "metadata": {},
   "outputs": [
    {
     "data": {
      "text/plain": [
       "array([0, 0, 1, 2, 2, 2, 0, 2, 1, 2, 1, 1, 1, 0, 0, 2, 1, 1, 2, 0])"
      ]
     },
     "execution_count": 108,
     "metadata": {},
     "output_type": "execute_result"
    }
   ],
   "source": [
    "np.argmin(dist, axis=0)"
   ]
  },
  {
   "cell_type": "code",
   "execution_count": 90,
   "metadata": {},
   "outputs": [],
   "source": [
    "distances = np.sqrt(((X - centroids[:, np.newaxis])**2).sum(axis=2))"
   ]
  },
  {
   "cell_type": "code",
   "execution_count": 110,
   "metadata": {},
   "outputs": [],
   "source": [
    "closest = np.argmin(distances, axis=0)"
   ]
  },
  {
   "cell_type": "code",
   "execution_count": null,
   "metadata": {},
   "outputs": [],
   "source": [
    "def closest_centroid(X, centroids):\n",
    "    distances = np.sqrt(((X - centroids[:, np.newaxis])**2).sum(axis=2))\n",
    "    return np.argmin(distances, axis=0)"
   ]
  },
  {
   "cell_type": "code",
   "execution_count": 114,
   "metadata": {},
   "outputs": [
    {
     "data": {
      "text/plain": [
       "3"
      ]
     },
     "execution_count": 114,
     "metadata": {},
     "output_type": "execute_result"
    }
   ],
   "source": [
    "len(centroids)"
   ]
  },
  {
   "cell_type": "code",
   "execution_count": 147,
   "metadata": {},
   "outputs": [
    {
     "name": "stdout",
     "output_type": "stream",
     "text": [
      "[-7.3481194  -8.34752692]\n",
      "[-0.99176749  3.27375117]\n",
      "[-9.97187897 -3.9157724 ]\n"
     ]
    }
   ],
   "source": [
    "for i in range(k):\n",
    "    print(X[labels==i].mean(axis=0))"
   ]
  },
  {
   "cell_type": "code",
   "execution_count": null,
   "metadata": {},
   "outputs": [],
   "source": [
    "def shift_centroids(X, closest, centroids):\n",
    "    return np.array([X[closest==i].mean(axis=0) for i in range(k)"
   ]
  },
  {
   "cell_type": "code",
   "execution_count": 111,
   "metadata": {},
   "outputs": [
    {
     "data": {
      "text/plain": [
       "array([[-7.3481194 , -8.34752692],\n",
       "       [-0.99176749,  3.27375117],\n",
       "       [-9.97187897, -3.9157724 ]])"
      ]
     },
     "execution_count": 111,
     "metadata": {},
     "output_type": "execute_result"
    }
   ],
   "source": [
    "np.array([X[closest==k].mean(axis=0) for k in range(centroids.shape[0])])"
   ]
  },
  {
   "cell_type": "code",
   "execution_count": 161,
   "metadata": {},
   "outputs": [
    {
     "data": {
      "text/plain": [
       "array([[-7.3481194 , -8.34752692],\n",
       "       [-0.99176749,  3.27375117],\n",
       "       [-9.97187897, -3.9157724 ]])"
      ]
     },
     "execution_count": 161,
     "metadata": {},
     "output_type": "execute_result"
    }
   ],
   "source": [
    "np.array([X[closest==i].mean(axis=0) for i in range(k)])"
   ]
  },
  {
   "cell_type": "code",
   "execution_count": 170,
   "metadata": {},
   "outputs": [
    {
     "data": {
      "text/plain": [
       "array([0, 0, 1, 2, 2, 2, 0, 2, 1, 2, 1, 1, 1, 0, 0, 2, 1, 1, 2, 0])"
      ]
     },
     "execution_count": 170,
     "metadata": {},
     "output_type": "execute_result"
    }
   ],
   "source": [
    "labels"
   ]
  },
  {
   "cell_type": "code",
   "execution_count": 167,
   "metadata": {},
   "outputs": [],
   "source": [
    "closest = [1,0,1,0]\n",
    "i=1"
   ]
  },
  {
   "cell_type": "code",
   "execution_count": 172,
   "metadata": {},
   "outputs": [
    {
     "data": {
      "text/plain": [
       "array([[-7.75205488, -8.99843375],\n",
       "       [-7.73612831, -8.1658927 ],\n",
       "       [-7.25671774, -9.04085707],\n",
       "       [-7.75654294, -8.54998163],\n",
       "       [-5.40508001, -7.41118394],\n",
       "       [-8.18219253, -7.91881241]])"
      ]
     },
     "execution_count": 172,
     "metadata": {},
     "output_type": "execute_result"
    }
   ],
   "source": [
    "X[labels==0]"
   ]
  },
  {
   "cell_type": "code",
   "execution_count": 126,
   "metadata": {},
   "outputs": [],
   "source": [
    "def initialise_centroid(X, k, randstate):\n",
    "    rs = np.random.RandomState(randstate) # Random state generator\n",
    "    i = rs.permutation(len(X))[:k]        # Returns random k number of indices\n",
    "    centroids = X[i]                      # Using the indices initialised above, define centroids\n",
    "    return centroids\n",
    "\n",
    "def closest_centroid(X, centroids):\n",
    "    distances = np.sqrt(((X - centroids[:, np.newaxis])**2).sum(axis=2)) # Calculate the euclidean distance between each point and each of the centroids, and assign label. \n",
    "    labels = np.argmin(distances, axis=0)\n",
    "    return labels\n",
    "\n",
    "def shift_centroids(X, labels, centroids):\n",
    "    new_centroids = np.array([X[labels==i].mean(axis=0) for i in range(k)]) # Finds new centroids depending on their distance with centroid.\n",
    "    return new_centroids"
   ]
  },
  {
   "cell_type": "code",
   "execution_count": 128,
   "metadata": {},
   "outputs": [],
   "source": [
    "centroids = initialise_centroid(X, k, randstate)"
   ]
  },
  {
   "cell_type": "code",
   "execution_count": 130,
   "metadata": {},
   "outputs": [],
   "source": [
    "labels = closest_centroid(X, centroids)"
   ]
  },
  {
   "cell_type": "code",
   "execution_count": 132,
   "metadata": {},
   "outputs": [],
   "source": [
    "centroids = shift_centroids(X, labels, centroids)"
   ]
  },
  {
   "cell_type": "code",
   "execution_count": 133,
   "metadata": {},
   "outputs": [],
   "source": [
    "labels = closest_centroid(X, centroids)"
   ]
  },
  {
   "cell_type": "code",
   "execution_count": 135,
   "metadata": {},
   "outputs": [],
   "source": [
    "def k_means_algo(X, k, randstate):\n",
    "    rs = np.random.RandomState(randstate) # Random state generator\n",
    "    i = rs.permutation(len(X))[:k]        # Returns random k number of indices\n",
    "    centroids = X[i]                      # Using the indices initialised above, define centroids\n",
    "\n",
    "    while True:\n",
    "        distances = np.sqrt(((X - centroids[:, np.newaxis])**2).sum(axis=2)) # Calculate the euclidean distance between each point and each of the centroids, and assign label. \n",
    "        labels = np.argmin(distances, axis=0)\n",
    "        \n",
    "        new_centroids = np.array([X[labels==i].mean(axis=0) for i in range(k)]) # Finds new centroids depending on their distance with centroid.\n",
    "        \n",
    "        if np.all(centroids == centroids):\n",
    "            break\n",
    "        \n",
    "        centroids = new_centroids\n",
    "        \n",
    "    return centroids, labels"
   ]
  },
  {
   "cell_type": "code",
   "execution_count": 145,
   "metadata": {},
   "outputs": [
    {
     "data": {
      "text/plain": [
       "(array([[-0.79415228,  2.10495117],\n",
       "        [-9.09612178, -3.45085421],\n",
       "        [-1.34052081,  4.15711949]]),\n",
       " array([1, 1, 0, 1, 1, 1, 1, 1, 2, 1, 2, 0, 2, 1, 1, 1, 2, 2, 1, 1]))"
      ]
     },
     "execution_count": 145,
     "metadata": {},
     "output_type": "execute_result"
    }
   ],
   "source": [
    "k_means_algo(X, 3, 5)"
   ]
  },
  {
   "cell_type": "code",
   "execution_count": 146,
   "metadata": {},
   "outputs": [
    {
     "data": {
      "image/png": "[encoded data removed]",
      "text/plain": [
       "<Figure size 432x288 with 1 Axes>"
      ]
     },
     "metadata": {
      "needs_background": "light"
     },
     "output_type": "display_data"
    }
   ],
   "source": [
    "plt.scatter(X[:, 0], X[:, 1], c=labels)\n",
    "plt.show()"
   ]
  },
  {
   "cell_type": "code",
   "execution_count": 193,
   "metadata": {},
   "outputs": [],
   "source": [
    "def k_means_algo(X, k, randstate):\n",
    "    rs = np.random.RandomState(randstate) # Random state generator\n",
    "    i = rs.permutation(len(X))[:k]        # Returns random k number of indices\n",
    "    centroids = X[i]                      # Using the indices initialised above, define centroids\n",
    "\n",
    "    while True:\n",
    "        distances = np.sqrt(((X - centroids[:, np.newaxis])**2).sum(axis=2)) # Calculate the euclidean distance between each point and each of the centroids, and assign label. \n",
    "        labels = np.argmin(distances, axis=0)\n",
    "        \n",
    "        new_centroids = np.array([X[labels==i].mean(axis=0) for i in range(k)]) # Finds new centroids depending on their distance with centroid.\n",
    "        \n",
    "        if np.all(centroids == centroids):\n",
    "            break\n",
    "        \n",
    "        centroids = new_centroids\n",
    "        \n",
    "    return centroids, labels\n",
    "\n",
    "\n",
    "def plot_kmeans(X, centroids):\n",
    "    plt.scatter(X[:, 0], X[:, 1], c=labels, cmap='rainbow') \n",
    "    plt.scatter(centroids[:,0] ,centroids[:,1], color='black')\n",
    "    \n",
    "\n",
    "def k_means(X, k):\n",
    "    centroids = X[np.random.randint(low=0,\n",
    "                                    high=len(X), \n",
    "                                    size=k)]\n",
    "\n",
    "    while True:\n",
    "        distances = np.sqrt(((X - centroids[:, np.newaxis])**2).sum(axis=2)) # Calculate the euclidean distance between each point and each of the centroids, and assign label. \n",
    "        labels = np.argmin(distances, axis=0)\n",
    "        \n",
    "        new_centroids = np.array([X[labels==i].mean(axis=0) for i in range(k)]) # Finds new centroids depending on their distance with centroid.\n",
    "        \n",
    "        if np.all(centroids == centroids):\n",
    "            break\n",
    "        \n",
    "        centroids = new_centroids\n",
    "        \n",
    "    return centroids, labels\n",
    "\n",
    "def plot_kmeans(X, centroids):\n",
    "    plt.scatter(X[:, 0], X[:, 1], c=labels, cmap='rainbow') \n",
    "    plt.scatter(centroids[:,0] ,centroids[:,1], color='black')"
   ]
  },
  {
   "cell_type": "code",
   "execution_count": 194,
   "metadata": {},
   "outputs": [
    {
     "data": {
      "image/png": "[encoded data removed]",
      "text/plain": [
       "<Figure size 576x396 with 1 Axes>"
      ]
     },
     "metadata": {},
     "output_type": "display_data"
    }
   ],
   "source": [
    "centroids, labels = k_means(X,3)\n",
    "plot_kmeans(X,centroids)"
   ]
  },
  {
   "cell_type": "code",
   "execution_count": null,
   "metadata": {},
   "outputs": [],
   "source": [
    "def k_means(X, k):\n",
    "    centroids = X[np.random.randint(low=0,\n",
    "                                    high=len(X), \n",
    "                                    size=k)]\n",
    "\n",
    "    while True:\n",
    "        distances = np.sqrt(((X - centroids[:, np.newaxis])**2).sum(axis=2)) # Calculate the euclidean distance between each point and each of the centroids, and assign label. \n",
    "        labels = np.argmin(distances, axis=0)\n",
    "        \n",
    "        new_centroids = np.array([X[labels==i].mean(axis=0) for i in range(k)]) # Finds new centroids depending on their distance with centroid.\n",
    "        \n",
    "        if np.all(centroids == centroids):\n",
    "            break\n",
    "        \n",
    "        centroids = new_centroids\n",
    "        \n",
    "    return centroids, labels\n",
    "\n",
    "def inertia(X, centroids):\n",
    "    sqd_list=[]\n",
    "    for i in range(3):\n",
    "        sqd_list.append((([X[labels==j] for j in range(3)][i]-centroids[i])**2).mean())\n",
    "    inertia = (np.mean(sqd_list))\n",
    "    return inertia\n",
    "\n",
    "def plot_kmeans(X, centroids):\n",
    "    plt.scatter(X[:, 0], X[:, 1], c=labels, cmap='rainbow') \n",
    "    plt.scatter(centroids[:,0] ,centroids[:,1], color='black')"
   ]
  },
  {
   "cell_type": "code",
   "execution_count": 236,
   "metadata": {},
   "outputs": [],
   "source": [
    "def inertia(X, centroids):\n",
    "    sqd_list=[]\n",
    "    for i in range(3):\n",
    "        sqd_list.append((([X[labels==j] for j in range(3)][i]-centroids[i])**2).mean())\n",
    "    inertia = (np.mean(sqd_list))\n",
    "    return inertia"
   ]
  },
  {
   "cell_type": "code",
   "execution_count": 233,
   "metadata": {},
   "outputs": [
    {
     "name": "stdout",
     "output_type": "stream",
     "text": [
      "[array([[7.20180627e-02, 1.44395654e+00],\n",
      "       [3.73372719e-01, 1.14707100e-01],\n",
      "       [2.12047955e+00, 5.12422486e-01],\n",
      "       [1.07806167e-01, 9.22078991e-01],\n",
      "       [0.00000000e+00, 0.00000000e+00],\n",
      "       [2.76204853e+00, 7.24828822e-04],\n",
      "       [6.63785537e-01, 7.23385787e-01]]), array([[6.93441081e-01, 3.77448338e-01],\n",
      "       [1.36768066e+00, 7.76242444e-04],\n",
      "       [9.61631427e-02, 2.75202505e-03],\n",
      "       [0.00000000e+00, 0.00000000e+00]]), array([[5.61001890e+00, 1.68864761e+01],\n",
      "       [5.68571823e+00, 1.07372526e+01],\n",
      "       [2.45401166e-03, 3.35368581e-03],\n",
      "       [8.20183725e+00, 1.72369374e+01],\n",
      "       [1.04805623e+00, 6.35249556e-02],\n",
      "       [0.00000000e+00, 0.00000000e+00],\n",
      "       [5.58877871e+00, 1.34019227e+01],\n",
      "       [2.22361545e+01, 6.36081672e+00],\n",
      "       [3.75743409e+00, 9.17904831e+00]])]\n"
     ]
    }
   ],
   "source": [
    "sqd_list=[]\n",
    "for i in range(3):\n",
    "    sqd_list.append((([X[labels==j] for j in range(3)][i]-centroids[i])**2))\n",
    "    \n",
    "print(sqd_list)"
   ]
  },
  {
   "cell_type": "code",
   "execution_count": 227,
   "metadata": {},
   "outputs": [],
   "source": [
    "centroids, labels = k_means(X,3)"
   ]
  },
  {
   "cell_type": "code",
   "execution_count": 237,
   "metadata": {},
   "outputs": [
    {
     "data": {
      "text/plain": [
       "2.6728232433333754"
      ]
     },
     "execution_count": 237,
     "metadata": {},
     "output_type": "execute_result"
    }
   ],
   "source": [
    "inertia(X, centroids)"
   ]
  },
  {
   "cell_type": "code",
   "execution_count": 214,
   "metadata": {},
   "outputs": [],
   "source": [
    "# Inertia is the mean squared distance between each instance and its closest centroid."
   ]
  },
  {
   "cell_type": "code",
   "execution_count": 203,
   "metadata": {},
   "outputs": [
    {
     "data": {
      "text/plain": [
       "33.34938520053034"
      ]
     },
     "execution_count": 203,
     "metadata": {},
     "output_type": "execute_result"
    }
   ],
   "source": [
    "(([X[labels==i] for i in range(3)][0]-centroids[0])**2).mean()"
   ]
  },
  {
   "cell_type": "code",
   "execution_count": 204,
   "metadata": {},
   "outputs": [
    {
     "data": {
      "text/plain": [
       "array([[ 9.47144831,  5.52794425],\n",
       "       [ 0.09545987, -1.40821388],\n",
       "       [-0.8327311 ,  0.61436824],\n",
       "       [ 1.1694788 , -0.02786113],\n",
       "       [ 1.16874403, -1.21408333],\n",
       "       [10.35085244,  7.06827605],\n",
       "       [ 0.14499785, -1.4661249 ],\n",
       "       [ 8.28362347,  7.44542859],\n",
       "       [10.06814861,  5.76934224],\n",
       "       [ 9.73981012,  6.72959168],\n",
       "       [ 0.31010183,  0.05245975],\n",
       "       [ 8.07786893,  6.75651433],\n",
       "       [ 8.92507977,  7.58011257],\n",
       "       [ 0.        ,  0.        ]])"
      ]
     },
     "execution_count": 204,
     "metadata": {},
     "output_type": "execute_result"
    }
   ],
   "source": [
    "[X[labels==i] for i in range(3)][0]-centroids[0]"
   ]
  },
  {
   "cell_type": "code",
   "execution_count": 206,
   "metadata": {},
   "outputs": [
    {
     "name": "stdout",
     "output_type": "stream",
     "text": [
      "33.34938520053034\n",
      "1.0438989141794615\n",
      "0.11531889442139016\n"
     ]
    }
   ],
   "source": [
    "for i in range(3):\n",
    "    print((([X[labels==j] for j in range(3)][i]-centroids[i])**2).mean())"
   ]
  },
  {
   "cell_type": "code",
   "execution_count": 184,
   "metadata": {},
   "outputs": [
    {
     "data": {
      "text/plain": [
       "array([428.55382988, 385.66879098, 171.02230352, 337.1591395 ,\n",
       "       331.60366401, 263.85679257, 418.86672673, 292.10451931,\n",
       "       214.8078329 , 336.8392033 , 192.27049527, 185.0408721 ,\n",
       "       195.63661878, 405.27151782, 307.51880984, 293.4288956 ,\n",
       "       175.02146028, 202.63575891, 306.81169307, 385.8527586 ])"
      ]
     },
     "execution_count": 184,
     "metadata": {},
     "output_type": "execute_result"
    }
   ],
   "source": [
    "ssd(X, centroids)"
   ]
  },
  {
   "cell_type": "code",
   "execution_count": null,
   "metadata": {},
   "outputs": [],
   "source": [
    "def kmeans(points, k, cutoff, max_iterations):\n",
    "\n",
    "    # Pick out k random points to use as our initial centroids\n",
    "    initial = random.sample(points, k)\n",
    "\n",
    "    # Create k clusters using those centroids\n",
    "    clusters = [Cluster([p]) for p in initial]\n",
    "\n",
    "    # Loop through the dataset until the clusters stabilize\n",
    "    loopCounter = 0\n",
    "    while True:\n",
    "        # Create a list of lists to hold the points in each cluster\n",
    "        lists = [[] for c in clusters]\n",
    "        clusterCount = len(clusters)\n",
    "\n",
    "        # Start counting loops\n",
    "        loopCounter += 1\n",
    "        # For every point in the dataset ...\n",
    "        for p in points:\n",
    "            # Get the distance between that point and the centroid of the first\n",
    "            # cluster.\n",
    "            smallest_distance = getEucledianDistance(p, clusters[0].centroid)\n",
    "\n",
    "            # Set the cluster this point belongs to\n",
    "            clusterIndex = 0\n",
    "\n",
    "            # For the remainder of the clusters ...\n",
    "            for i in range(clusterCount - 1):\n",
    "                # calculate the distance of that point to each other cluster's\n",
    "                # centroid.\n",
    "                distance = getEucledianDistance(p, clusters[i+1].centroid)\n",
    "                # If it's closer to that cluster's centroid update what we\n",
    "                # think the smallest distance is, and set the point to belong\n",
    "                # to that cluster\n",
    "                if distance < smallest_distance:\n",
    "                    smallest_distance = distance\n",
    "                    clusterIndex = i+1\n",
    "            lists[clusterIndex].append(p)\n",
    "\n",
    "        # Set our biggest_shift to zero for this iteration\n",
    "        biggest_shift = 0.0\n",
    "\n",
    "        # As many times as there are clusters ...\n",
    "        for i in range(clusterCount):\n",
    "            # Calculate how far the centroid moved in this iteration\n",
    "            shift = clusters[i].update(lists[i])\n",
    "            # Keep track of the largest move from all cluster centroid updates\n",
    "            biggest_shift = max(biggest_shift, shift)\n",
    "\n",
    "        # If the centroids have stopped moving much, say we're done!\n",
    "        if biggest_shift < cutoff and loopCounter <= max_iterations:\n",
    "            print \"Clustering iterations run : %s \" % loopCounter\n",
    "            break\n",
    "    return clusters\n",
    "\n",
    "\n",
    "def getEucledianDistance(a, b):\n",
    "    ret = reduce(lambda x, y: x + pow((a.coords[y]-b.coords[y]), 2),\n",
    "                 range(a.n), 0.0)\n",
    "    return math.sqrt(ret)\n",
    "\n",
    "\n",
    "def computeSSE(clusters):\n",
    "    sse = 0.0\n",
    "    for c in clusters:\n",
    "        temp = 0.0\n",
    "        c_centroid = c.centroid.coords\n",
    "        for p in c.points:\n",
    "            temp += getEucledianDistance(p, c.centroid)\n",
    "        sse += temp\n",
    "    return sse\n"
   ]
  },
  {
   "cell_type": "code",
   "execution_count": 181,
   "metadata": {},
   "outputs": [
    {
     "ename": "AttributeError",
     "evalue": "'tuple' object has no attribute 'inertia_'",
     "output_type": "error",
     "traceback": [
      "\u001b[0;31m---------------------------------------------------------------------------\u001b[0m",
      "\u001b[0;31mAttributeError\u001b[0m                            Traceback (most recent call last)",
      "\u001b[0;32m<ipython-input-181-fa9a1902bdf4>\u001b[0m in \u001b[0;36m<module>\u001b[0;34m\u001b[0m\n\u001b[1;32m      3\u001b[0m \u001b[0;32mfor\u001b[0m \u001b[0mk\u001b[0m \u001b[0;32min\u001b[0m \u001b[0mK\u001b[0m\u001b[0;34m:\u001b[0m\u001b[0;34m\u001b[0m\u001b[0;34m\u001b[0m\u001b[0m\n\u001b[1;32m      4\u001b[0m     \u001b[0mkm\u001b[0m \u001b[0;34m=\u001b[0m \u001b[0mk_means\u001b[0m\u001b[0;34m(\u001b[0m\u001b[0mX\u001b[0m\u001b[0;34m,\u001b[0m\u001b[0mk\u001b[0m\u001b[0;34m)\u001b[0m\u001b[0;34m\u001b[0m\u001b[0;34m\u001b[0m\u001b[0m\n\u001b[0;32m----> 5\u001b[0;31m     \u001b[0mSum_of_squared_distances\u001b[0m\u001b[0;34m.\u001b[0m\u001b[0mappend\u001b[0m\u001b[0;34m(\u001b[0m\u001b[0mkm\u001b[0m\u001b[0;34m.\u001b[0m\u001b[0minertia_\u001b[0m\u001b[0;34m)\u001b[0m\u001b[0;34m\u001b[0m\u001b[0;34m\u001b[0m\u001b[0m\n\u001b[0m\u001b[1;32m      6\u001b[0m \u001b[0;34m\u001b[0m\u001b[0m\n\u001b[1;32m      7\u001b[0m \u001b[0mplt\u001b[0m\u001b[0;34m.\u001b[0m\u001b[0mplot\u001b[0m\u001b[0;34m(\u001b[0m\u001b[0mK\u001b[0m\u001b[0;34m,\u001b[0m \u001b[0mSum_of_squared_distances\u001b[0m\u001b[0;34m,\u001b[0m \u001b[0;34m'bx-'\u001b[0m\u001b[0;34m)\u001b[0m\u001b[0;34m\u001b[0m\u001b[0;34m\u001b[0m\u001b[0m\n",
      "\u001b[0;31mAttributeError\u001b[0m: 'tuple' object has no attribute 'inertia_'"
     ]
    }
   ],
   "source": [
    "Sum_of_squared_distances = []\n",
    "K = range(1,15)\n",
    "for k in K:\n",
    "    km = k_means(X,k)\n",
    "    Sum_of_squared_distances.append(km.inertia_)\n",
    "    \n",
    "plt.plot(K, Sum_of_squared_distances, 'bx-')\n",
    "plt.xlabel('k')\n",
    "plt.ylabel('Sum_of_squared_distances')\n",
    "plt.title('Elbow Method For Optimal k')\n",
    "plt.show()"
   ]
  },
  {
   "cell_type": "code",
   "execution_count": 180,
   "metadata": {},
   "outputs": [
    {
     "ename": "YellowbrickTypeError",
     "evalue": "The supplied model is not a clustering estimator; try a classifier or regression score visualizer instead!",
     "output_type": "error",
     "traceback": [
      "\u001b[0;31m---------------------------------------------------------------------------\u001b[0m",
      "\u001b[0;31mYellowbrickTypeError\u001b[0m                      Traceback (most recent call last)",
      "\u001b[0;32m<ipython-input-180-db9f488b05bb>\u001b[0m in \u001b[0;36m<module>\u001b[0;34m\u001b[0m\n\u001b[1;32m      5\u001b[0m \u001b[0;32mfor\u001b[0m \u001b[0mi\u001b[0m \u001b[0;32min\u001b[0m \u001b[0mcluster_list\u001b[0m\u001b[0;34m:\u001b[0m\u001b[0;34m\u001b[0m\u001b[0;34m\u001b[0m\u001b[0m\n\u001b[1;32m      6\u001b[0m     \u001b[0mmodel\u001b[0m \u001b[0;34m=\u001b[0m \u001b[0mk_means\u001b[0m\u001b[0;34m(\u001b[0m\u001b[0mX\u001b[0m\u001b[0;34m,\u001b[0m\u001b[0;36m3\u001b[0m\u001b[0;34m)\u001b[0m\u001b[0;34m\u001b[0m\u001b[0;34m\u001b[0m\u001b[0m\n\u001b[0;32m----> 7\u001b[0;31m     \u001b[0mvisualizer\u001b[0m \u001b[0;34m=\u001b[0m \u001b[0mSilhouetteVisualizer\u001b[0m\u001b[0;34m(\u001b[0m\u001b[0mmodel\u001b[0m\u001b[0;34m,\u001b[0m \u001b[0mcolors\u001b[0m\u001b[0;34m=\u001b[0m\u001b[0;34m'yellowbrick'\u001b[0m\u001b[0;34m)\u001b[0m\u001b[0;34m\u001b[0m\u001b[0;34m\u001b[0m\u001b[0m\n\u001b[0m\u001b[1;32m      8\u001b[0m     \u001b[0mvisualizer\u001b[0m\u001b[0;34m.\u001b[0m\u001b[0mfit\u001b[0m\u001b[0;34m(\u001b[0m\u001b[0mX\u001b[0m\u001b[0;34m)\u001b[0m\u001b[0;34m\u001b[0m\u001b[0;34m\u001b[0m\u001b[0m\n\u001b[1;32m      9\u001b[0m     \u001b[0mprint\u001b[0m\u001b[0;34m(\u001b[0m\u001b[0;34m\"The average silhouette_score is :\"\u001b[0m\u001b[0;34m,\u001b[0m \u001b[0mvisualizer\u001b[0m\u001b[0;34m.\u001b[0m\u001b[0msilhouette_score_\u001b[0m\u001b[0;34m)\u001b[0m\u001b[0;34m\u001b[0m\u001b[0;34m\u001b[0m\u001b[0m\n",
      "\u001b[0;32m~/anaconda3/lib/python3.7/site-packages/yellowbrick/cluster/silhouette.py\u001b[0m in \u001b[0;36m__init__\u001b[0;34m(self, model, ax, colors, is_fitted, **kwargs)\u001b[0m\n\u001b[1;32m    116\u001b[0m \u001b[0;34m\u001b[0m\u001b[0m\n\u001b[1;32m    117\u001b[0m         \u001b[0;31m# Initialize the visualizer bases\u001b[0m\u001b[0;34m\u001b[0m\u001b[0;34m\u001b[0m\u001b[0;34m\u001b[0m\u001b[0m\n\u001b[0;32m--> 118\u001b[0;31m         \u001b[0msuper\u001b[0m\u001b[0;34m(\u001b[0m\u001b[0mSilhouetteVisualizer\u001b[0m\u001b[0;34m,\u001b[0m \u001b[0mself\u001b[0m\u001b[0;34m)\u001b[0m\u001b[0;34m.\u001b[0m\u001b[0m__init__\u001b[0m\u001b[0;34m(\u001b[0m\u001b[0mmodel\u001b[0m\u001b[0;34m,\u001b[0m \u001b[0max\u001b[0m\u001b[0;34m=\u001b[0m\u001b[0max\u001b[0m\u001b[0;34m,\u001b[0m \u001b[0;34m**\u001b[0m\u001b[0mkwargs\u001b[0m\u001b[0;34m)\u001b[0m\u001b[0;34m\u001b[0m\u001b[0;34m\u001b[0m\u001b[0m\n\u001b[0m\u001b[1;32m    119\u001b[0m \u001b[0;34m\u001b[0m\u001b[0m\n\u001b[1;32m    120\u001b[0m         \u001b[0;31m# Visual Properties\u001b[0m\u001b[0;34m\u001b[0m\u001b[0;34m\u001b[0m\u001b[0;34m\u001b[0m\u001b[0m\n",
      "\u001b[0;32m~/anaconda3/lib/python3.7/site-packages/yellowbrick/cluster/base.py\u001b[0m in \u001b[0;36m__init__\u001b[0;34m(self, model, ax, fig, force_model, **kwargs)\u001b[0m\n\u001b[1;32m     44\u001b[0m         \u001b[0;32mif\u001b[0m \u001b[0;32mnot\u001b[0m \u001b[0mforce_model\u001b[0m \u001b[0;32mand\u001b[0m \u001b[0;32mnot\u001b[0m \u001b[0misclusterer\u001b[0m\u001b[0;34m(\u001b[0m\u001b[0mmodel\u001b[0m\u001b[0;34m)\u001b[0m\u001b[0;34m:\u001b[0m\u001b[0;34m\u001b[0m\u001b[0;34m\u001b[0m\u001b[0m\n\u001b[1;32m     45\u001b[0m             raise YellowbrickTypeError(\n\u001b[0;32m---> 46\u001b[0;31m                 \u001b[0;34m\"The supplied model is not a clustering estimator; try a \"\u001b[0m\u001b[0;34m\u001b[0m\u001b[0;34m\u001b[0m\u001b[0m\n\u001b[0m\u001b[1;32m     47\u001b[0m                 \u001b[0;34m\"classifier or regression score visualizer instead!\"\u001b[0m\u001b[0;34m\u001b[0m\u001b[0;34m\u001b[0m\u001b[0m\n\u001b[1;32m     48\u001b[0m             )\n",
      "\u001b[0;31mYellowbrickTypeError\u001b[0m: The supplied model is not a clustering estimator; try a classifier or regression score visualizer instead!"
     ]
    }
   ],
   "source": [
    "from sklearn.metrics import silhouette_samples, silhouette_score\n",
    "\n",
    "cluster_list = list(range(2,8))\n",
    "\n",
    "for i in cluster_list:\n",
    "    model = k_means(X,3)\n",
    "    visualizer = SilhouetteVisualizer(model, colors='yellowbrick')\n",
    "    visualizer.fit(X)\n",
    "    print(\"The average silhouette_score is :\", visualizer.silhouette_score_)\n",
    "    visualizer.show() "
   ]
  }
 ],
 "metadata": {
  "kernelspec": {
   "display_name": "Python 3",
   "language": "python",
   "name": "python3"
  },
  "language_info": {
   "codemirror_mode": {
    "name": "ipython",
    "version": 3
   },
   "file_extension": ".py",
   "mimetype": "text/x-python",
   "name": "python",
   "nbconvert_exporter": "python",
   "pygments_lexer": "ipython3",
   "version": "3.7.4"
  },
  "toc": {
   "base_numbering": 1,
   "nav_menu": {},
   "number_sections": true,
   "sideBar": true,
   "skip_h1_title": false,
   "title_cell": "Table of Contents",
   "title_sidebar": "Contents",
   "toc_cell": false,
   "toc_position": {},
   "toc_section_display": true,
   "toc_window_display": false
  }
 },
 "nbformat": 4,
 "nbformat_minor": 2
}
